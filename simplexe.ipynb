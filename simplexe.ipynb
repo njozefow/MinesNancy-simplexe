{
 "cells": [
  {
   "cell_type": "markdown",
   "metadata": {},
   "source": [
    "# Algorithme du simplexe pour la programmation linéaire\n",
    "\n",
    "Le but est de reprendre l'algorithme du simplexe en s'aidant d'un programme en python pour suivre les étapes de l'algorithme.\n",
    "\n",
    "## Besoins\n",
    "\n",
    "Vous devez avoir installer python3 avec les modules numpy, scipy et matplotlib. Vous devez aussi pouvoir manipuler des notebooks jupyter. Pour cela, vous pouvez soit installer l'extension `jupyter` dans visual studio code ou installer jupyter lab dans votre environement python. Si vous n'avez pas d'environnement python, je vous conseille d'installer [anaconda](https://www.anaconda.com/products/individual) qui vient normalment tout d'installer."
   ]
  },
  {
   "cell_type": "markdown",
   "metadata": {},
   "source": [
    "<div class=\"alert alert-warning\">\n",
    "Exécutez le code ci-dessous pour importer les bibliothèques nécessaires.\n",
    "</div>"
   ]
  },
  {
   "cell_type": "code",
   "execution_count": null,
   "metadata": {
    "collapsed": false
   },
   "outputs": [],
   "source": [
    "# Imports: for all the notebook\n",
    "%matplotlib inline\n",
    "from lp_visu_notebook import LPVisu\n",
    "import numpy as np\n",
    "import numpy.linalg as npla\n",
    "from scipy.optimize import linprog"
   ]
  },
  {
   "cell_type": "markdown",
   "metadata": {},
   "source": [
    "## 1. Un premier exemple\n",
    "\n",
    "Soit le problème de programmation linéaire suivant :\n",
    "\n",
    "\\begin{alignat*}{3}\n",
    "(\\mathcal{P}1)\\qquad\\qquad \\max z= 19x_1 &+20x_2 &&\\\\\n",
    "\\text{sous les contraintes}& &&\\\\\n",
    "15x_1 &+17x_2 &&\\leq 72 &&\\qquad (1)\\\\\n",
    "& x_j \\geq 0 && j = 1,2 &&\\qquad (2).\n",
    "\\end{alignat*}\n"
   ]
  },
  {
   "cell_type": "markdown",
   "metadata": {},
   "source": [
    "<div class=\"alert alert-warning\">\n",
    "Exécutez le code ci-dessous. La fonction `LPVisu()` permet de tracer l'ensemble $X1$ des solutions admissibles de $(\\mathcal{P}1)$. Ce sont les points ui vérifient les contraintes (1) et (2) du problème.\n",
    "</div>"
   ]
  },
  {
   "cell_type": "code",
   "execution_count": null,
   "metadata": {
    "collapsed": false
   },
   "outputs": [],
   "source": [
    "# Définition du problème\n",
    "A = [[15.0, 17.0]]\n",
    "b = [72.0]\n",
    "c = np.array([19.0, 20.0])\n",
    "\n",
    "# Bornes des variables\n",
    "x1_bounds     = (0, None)\n",
    "x2_bounds     = (0, None)\n",
    "\n",
    "# Zone d'affichage\n",
    "x1_gui_bounds = (-1, 6)\n",
    "x2_gui_bounds = (-1, 6)\n",
    "\n",
    "visu = LPVisu(A, b, c,\n",
    "              x1_bounds, x2_bounds,\n",
    "              x1_gui_bounds, x2_gui_bounds)\n"
   ]
  },
  {
   "cell_type": "markdown",
   "metadata": {},
   "source": [
    "Le problème $(\\mathcal{P}1)$ est un problème de programmation linéaire.\n",
    "\n",
    "On dénomme $X1$ l'ensemble des solutions admissibles de $(\\mathcal{P}1)$. C'est le polyèdre vert sur la figure ci-dessus. Il est continu.\n",
    "\n",
    "Pour rappel, l'optimum de $(\\mathcal{P}1)$ est un des sommets du polyèdre $X1$. Ici, il y a 3 possibilités : $(0,0)$, $(0,4.24)$ et $(4.8,0)$.\n",
    "\n",
    "Pour résoudre $(\\mathcal{P}1)$ qui est un problème de programmation linéaire, nous allons utiliser ici la fonction `linprog()` de Scipy. Pour plus de détails sur cette fonction, consulter la [documentation](http://docs.scipy.org/doc/scipy/reference/generated/scipy.optimize.linprog.html). Cette méthode utilise l'algorithme du simplexe. Dans le reste du sujet, on fera les différentes étapes de l'algorithme du simplexe à la main."
   ]
  },
  {
   "cell_type": "code",
   "execution_count": null,
   "metadata": {
    "collapsed": false,
    "scrolled": true
   },
   "outputs": [],
   "source": [
    "res = linprog(-c, A_ub=A, b_ub=b, bounds = (x1_bounds, x2_bounds),\n",
    "              method='HiGHS')\n",
    "print(res)"
   ]
  },
  {
   "cell_type": "markdown",
   "metadata": {},
   "source": [
    "Votre réponse:\n",
    "   > Sommet optimal $x_R^*$:\n",
    "   \n",
    "   > Optimum $z_R^*$:"
   ]
  },
  {
   "cell_type": "markdown",
   "metadata": {},
   "source": [
    "<div class=\"alert alert-warning\">\n",
    "L'argument `obj` de `LPVisu()` permet de tracer l'ensemble des points $x$ ayant la même valeur de fonction objectif $z_R=c^Tx$. On l'utilise ci-dessous pour visualiser l'optimum. Exécutez le code.\n",
    "</div>"
   ]
  },
  {
   "cell_type": "code",
   "execution_count": null,
   "metadata": {
    "collapsed": false,
    "scrolled": false
   },
   "outputs": [],
   "source": [
    "zR=-res.fun\n",
    "\n",
    "visu = LPVisu(A, b, c,\n",
    "              x1_bounds, x2_bounds,\n",
    "              x1_gui_bounds, x2_gui_bounds,\n",
    "              obj=zR)"
   ]
  },
  {
   "cell_type": "markdown",
   "metadata": {},
   "source": [
    "## 2. Résolution \"graphique\" d'un programme linéaire\n",
    "\n",
    "On considère le programme linéaire suivant:\n",
    "\n",
    "\\begin{alignat*}{3}\n",
    "(\\mathcal{P}2)\\qquad\\qquad \\max z= 4x_1 &+3x_2 &&\\\\\n",
    "\\text{sous les contraintes}& &&\\\\\n",
    "x_1 & &&\\leq 8 &&\\qquad (1)\\\\\n",
    "x_1 & + 2x_2 &&\\leq 15 &&\\qquad (2)\\\\ \n",
    "2x_1 & + x_2 &&\\leq 18 &&\\qquad (3)\\\\\n",
    "x_1 &  && \\geq 0 && \\qquad (4) \\\\\n",
    "    & \\quad x_2 && \\geq 0 && \\qquad (5).\n",
    "\\end{alignat*}"
   ]
  },
  {
   "cell_type": "markdown",
   "metadata": {},
   "source": [
    "<div class=\"alert alert-warning\">\n",
    "En vous basant sur l'exemple ci-dessus, définissez `c`, `A`, `B`, `x1_bounds` et `x2_bounds` pour ($\\mathcal{P_2}1$) et tracer le polyèdre des solutions réalisables.\n",
    "<div>"
   ]
  },
  {
   "cell_type": "code",
   "execution_count": null,
   "metadata": {},
   "outputs": [],
   "source": [
    "# Définition du problème\n",
    "A = []\n",
    "b = []\n",
    "c = np.array([])\n",
    "\n",
    "# Bornes des variables\n",
    "x1_bounds = (0, None)\n",
    "x2_bounds = (0, None)\n",
    "\n",
    "# Zone d'affichage\n",
    "x1_gui_bounds = (-1, 16)\n",
    "x2_gui_bounds = (-1, 19)\n",
    "\n",
    "visu = LPVisu(A, b, c,\n",
    "              x1_bounds, x2_bounds,\n",
    "              x1_gui_bounds, x2_gui_bounds)\n"
   ]
  },
  {
   "cell_type": "markdown",
   "metadata": {},
   "source": [
    "On peut résoudre graphiquement le programme linéaire en faisant *glisser* la droite $4x_1 + 3x_2 = zR$ jusqu'à ce qu'elle ne touche plus le polyèdre des solutions réalisables. Le dernier sommet du polyèdre rencontré est une **solution optimale** et la valeur de $zR$ est l'**optimum**."
   ]
  },
  {
   "cell_type": "markdown",
   "metadata": {},
   "source": [
    "<div class=\"alert alert-warning\">\n",
    "Changer la valeur de `zR` de manière à trouver la meilleure solution admissible de ($\\mathcal{P}1$).\n",
    "<div>"
   ]
  },
  {
   "cell_type": "code",
   "execution_count": null,
   "metadata": {
    "collapsed": false
   },
   "outputs": [],
   "source": [
    "zR=25\n",
    "visu = LPVisu(A, b, c,\n",
    "              x1_bounds, x2_bounds,\n",
    "              x1_gui_bounds, x2_gui_bounds,\n",
    "              obj=zR)"
   ]
  },
  {
   "cell_type": "markdown",
   "metadata": {},
   "source": [
    "Votre réponse:\n",
    "   > Sommet optimal $x^*$:\n",
    "   \n",
    "   > Optimum $z^*$:\n",
    "\n",
    "Utiliser maintenant la fonction `linprog()` de Scipy pour résoudre le programme linéaire. Vérifier que vous obtenez bien les mêmes résultats. \n",
    "\n",
    "**Remarque :** `linprog()` minimise la fonction objectif. Il faut donc bien penser à changer le signe de `c` et on obtiendra alors moins l'optimum de ce que l'on a trouvé précédemment."
   ]
  },
  {
   "cell_type": "code",
   "execution_count": null,
   "metadata": {},
   "outputs": [],
   "source": [
    "res = linprog(-c, A_ub=A, b_ub=b, bounds=(x1_bounds, x2_bounds),\n",
    "              method='simplex')\n",
    "print(res)"
   ]
  },
  {
   "cell_type": "markdown",
   "metadata": {},
   "source": [
    "Commentaires:\n"
   ]
  },
  {
   "cell_type": "markdown",
   "metadata": {},
   "source": [
    "## 3. Mise sous forme standard\n",
    "\n",
    "Un programme linéaire peut s'écrire sous la forme standard suivante:\n",
    "\n",
    "\\begin{alignat*}{3}\n",
    "(\\mathcal{P}3)\\qquad\\qquad \\max z= c^Tx &&\\\\\n",
    "\\text{sous les contraintes}& &&\\\\\n",
    "Ax & &&= b &&\\qquad (1)\\\\\n",
    "x &  && \\geq 0 && \\qquad (2).\n",
    "\\end{alignat*}\n",
    "\n",
    "Pour $({\\cal P}2)$, il faut donc transformer les inégalités en égalités. Pour cela, on introduit des variables d'écart. On transforme une inégalité de la manière suivante : $a_i^Tx \\leq b_i$ devient $a_i^Tx + x^e = b_i$ avec $x^e \\geq 0$ avec $a_i$ et $b_i$ respectivement la $i^e$ ligne de $A$ et le $i^e$ coefficient de $b$. $x^e$ est une variable d'écart elle permet de *combler* l'écart entre la valeur de partie variable de la contrainte et sa borne. \n",
    "\n",
    "**Remarque :** On peut aussi introduire des variables d'écart pour les inégalités du type $\\geq$ la seule différence est que le coefficient de la variable d'écart est $-1$.\n",
    "\n",
    "Comme ${\\cal P}2$ contient 3 contraintes d'inégalité, on introduit 3 variables d'écart que l'on nommera $x_3$, $x_4$ et $x_5$.\n",
    "\n",
    "**Question :**  Ecrivez le programme linéaire $({\\cal P}2)$ sous la forme standard que l'on nommera $({\\cal P}3)$.\n",
    "\n",
    "**Remarque :** pour les programmes linéaires demandés, si vous n'êtes pas à l'aise avec LaTeX, vous pouvez les écrire à la main."
   ]
  },
  {
   "cell_type": "markdown",
   "metadata": {},
   "source": [
    "> **Réponse :**\n",
    "\\begin{alignat*}{9}\n",
    "(\\mathcal{P}_3)\\qquad\\qquad \\max z =  & \\quad  & \\quad &       &       &       &            &       & \\\\\n",
    "\\text{sous les contraintes}           &        &       &       &       &       &            &       & \\\\      \n",
    "                                      & \\quad  &       & \\quad &       &       & \\quad =    & \\quad & \\qquad (1)\\\\\n",
    "                                      & \\quad  & \\quad &       & \\quad &       & \\quad =    & \\quad & \\qquad (2)\\\\ \n",
    "                                      & \\quad  & \\quad &       &       & \\quad & \\quad =    & \\quad & \\qquad (3)\\\\\n",
    "                                      & \\quad  &       &       &       &       & \\quad \\geq & \\quad & \\qquad (4) \n",
    "\\end{alignat*}\n",
    "\n",
    "> **Question :** Définissez les variables `c`, `A`, `b`, `x1_bounds`, `x2_bounds`,  `x3_bounds`, `x4_bounds` et `x5_bounds` pour ($\\mathcal{P3}$)."
   ]
  },
  {
   "cell_type": "code",
   "execution_count": null,
   "metadata": {},
   "outputs": [],
   "source": [
    "c = np.array([])\n",
    "A = []\n",
    "b = []\n",
    "x1_bounds = ()\n",
    "x2_bounds = ()\n",
    "x3_bounds = ()\n",
    "x4_bounds = ()\n",
    "x5_bounds = ()\n"
   ]
  },
  {
   "cell_type": "markdown",
   "metadata": {},
   "source": [
    "> Vérifier que ${\\cal P}3$  est bien équivalent à ${\\cal P}2$ en résolvant ${\\cal P}3$ avec `linprog()`."
   ]
  },
  {
   "cell_type": "code",
   "execution_count": null,
   "metadata": {},
   "outputs": [],
   "source": [
    "res = linprog(-c, A_ub=A, b_ub=b, bounds=(x1_bounds, x2_bounds, x3_bounds, x4_bounds, x5_bounds),\n",
    "                method='simplex')\n",
    "print(res)\n"
   ]
  },
  {
   "cell_type": "markdown",
   "metadata": {},
   "source": [
    "## 4. Bases\n",
    "\n",
    "On s'intéresse aux bases de la matrice. Pour la matrice $A$, on la notera dans la suite $B = (A^i, A^j, A^k)$ avec $i, j$ et $k$ les indices des colonnes (et donc des variables associées) qui forment la base. Les variables $x_B = (x_i, x_j, x_k)$ sont appelées **variables de base** et les variables dans $x_N = x\\setminus x_B$ sont les **variables hors base**. Pour obtenir la solution associée à une base, il suffit de mettre les variables hors base à 0 et de déduire la valeur des variables de bases à partir du système de contraintes.\n",
    "\n",
    "**Question :** Combien de bases au maximum peut-on construire pour une matrice quelconque de dimension $n \\times m$ (on suppose que les lignes de la matrice sont linéairement indépendantes et non redondantes) ? Pour la matrice $A$ ?"
   ]
  },
  {
   "cell_type": "markdown",
   "metadata": {},
   "source": [
    "> votre réponse :"
   ]
  },
  {
   "cell_type": "markdown",
   "metadata": {},
   "source": [
    "Sachant qu'une base est constituée par l'intersection de contraintes dans un programme linéaire, combien de base existe-t'il réelement pour $A$ ? (il faut compter le nombre d'intersections de contraintes sur la figure que l'on a tracé précédemment, les contraintes liées au signe des variables comptent aussi)."
   ]
  },
  {
   "cell_type": "markdown",
   "metadata": {},
   "source": [
    "> votre réponse :"
   ]
  },
  {
   "cell_type": "markdown",
   "metadata": {},
   "source": [
    "Toutes les bases ne sont pas **réalisables / adminissibles**. Les bases dont les sommets associés sont des sommets du polyèdre ont des solutions réalisables associées. Combien de bases réalisables existe-t'il pour ${\\cal P}3$ ?"
   ]
  },
  {
   "cell_type": "markdown",
   "metadata": {},
   "source": [
    "> votre réponse :"
   ]
  },
  {
   "cell_type": "markdown",
   "metadata": {},
   "source": [
    "Dans la suite, $A^i$ est la $i^e$ colonne de $A$ et correspond donc à la variable $x_i$.\n",
    "\n",
    "Soit la base $B_1 = (A^1, A^2, A^3)$. Pour trouver la solution de base associée à $B_1$, il faut mettre le problème sous forme simpliciale par rapport à cette base :\n",
    "\n",
    "- les variables de bases ne doivent pas apparaître dans la fonction objectif\n",
    "- une variable de bases doit apparaître une seule fois dans une contrainte et son coefficient doit être 1 (on dit que cette variable de base est une la variable associée à la contrainte)\n",
    "\n",
    "On peut faire cela en calculant le nouveau système linéaire $B_1^{-1}A = B_1^{-1}b$.\n",
    "\n",
    "Le programme ci-dessous le fait pour mettre ${\\cal P}3$ sous forme simpliciale par rapport à $B_1$."
   ]
  },
  {
   "cell_type": "code",
   "execution_count": null,
   "metadata": {},
   "outputs": [],
   "source": [
    "B1 = np.array([[1, 0, 0], [1, 2, 1], [2, 1, 0]])\n",
    "\n",
    "invB1 = npla.inv(B1)\n",
    "\n",
    "print(\"B_1^-1 =\\n\", invB1, \"\\n\")\n",
    "\n",
    "invB1A = np.dot(invB1, A)\n",
    "\n",
    "print(\"B_1^-1 A =\\n\", invB1A, \"\\n\")\n",
    "\n",
    "invB1b = np.dot(invB1, b)\n",
    "\n",
    "print(\"B_1^-1 b =\\n\", invB1b, \"\\n\")"
   ]
  },
  {
   "cell_type": "markdown",
   "metadata": {},
   "source": [
    "On peut donc déduire la solution de base associée à $B_1$ en fixant les variables hors-base à 0 dans le nouveau système et en lisant directement les valeurs des variables de base dans $B_1^{-1}b$. On obtient la solution : $(8, 2, 0, 3, 0)$. On peut vérifier qu'il s'agit bien d'une solution qui correspond à un sommet du polyèdre.\n",
    "\n",
    "On peut obtenir la valeur de la fonction objectif $ z = 4x_1 + 3x_2 = 38$ à partir des valeurs de $x_1$ et $x_2$. Il est cependant intéressant de déterminer l'expression de la fonction objectif dans la nouvelle base. Pour cela, on peut exprimer $z$ en séparant les variables de base et les variables hors base. On obtient ($N_1$ sont les indices des variables hors base) :\n",
    "\n",
    "$$\n",
    "z^1 = c_{B_1}^Tx_{B_1} + c_{N_1}^Tx_{N_1}\n",
    "$$\n",
    "\n",
    "avec ici $c_{B_1}^T = [4 \\ 3 \\ 0]$ et $c_{N_1}^T = [0 \\ 0]$.\n",
    "\n",
    "En séparant les variables de base $x_{B_1} = (x_1, x_2, x_4)$ et les variables hors base $x_{N_1} = (x_3, x_5)$ dans le système linéaire, peut exprimer $x_{B_1}$ en fonction de $x_{N_1}$ avec $N_1$ la sous-matrice de $A$ correspondant aux variables hors base :\n",
    "\n",
    "$$\n",
    "x_{B_1} = B_1^{-1}b - B_1^{-1}N_1x_{N_1}\n",
    "$$\n",
    "\n",
    "En combinant, les deux équations ci-dessus, on obtient :\n",
    "\n",
    "$$\n",
    "z^1 = c_{B_1}^TB_1^{-1}b + (c_{N_1}^T - c_{B_1}^TB_1^{-1}N_1)x_{N_1}\n",
    "$$\n",
    "\n",
    "Comment les variables hors-bases valent 0, la valeur de la fonction objectif associée à la base $B_1$ est donc $z^1 = c_{B_1}^TB_1^{-1}b$. On peut aussi calculer les coefficients des variables hors base."
   ]
  },
  {
   "cell_type": "code",
   "execution_count": null,
   "metadata": {},
   "outputs": [],
   "source": [
    "cB1T = np.array([4, 3, 0])\n",
    "\n",
    "print(\"c_BT1 =\\n\", cB1T, \"\\n\")\n",
    "\n",
    "z1 = np.dot(cB1T, invB1b)\n",
    "\n",
    "print(\"z1 = c_B1^T B_1^-1 =\\n\", z1, \"\\n\")\n",
    "\n",
    "cNT = np.array([0.0, 0.0])\n",
    "N1 = np.array([[1.0, 0.0], [-2.0, 1.0], [3.0, -2.0]])\n",
    "\n",
    "print(\"c_NT =\\n\", cNT, \"\\n\")\n",
    "print(\"N_1 =\\n\", N1, \"\\n\")\n",
    "\n",
    "print(\"B_1^-1 =\\n\", invB1, \"\\n\")\n",
    "\n",
    "cB1TinvB1 = np.dot(cB1T, invB1)\n",
    "print(\"c_B1^T B_1^-1 =\\n\", cB1TinvB1, \"\\n\")\n",
    "\n",
    "cB1TinvB1N1 = np.dot(cB1TinvB1, N1)\n",
    "print(\"c_B1^T B_1^-1 N_1 =\\n\", cB1TinvB1N1, \"\\n\")\n",
    "\n",
    "indices = cNT - cB1TinvB1N1\n",
    "print(\"indices =\\n\", indices, \"\\n\")\n",
    "\n"
   ]
  },
  {
   "cell_type": "markdown",
   "metadata": {},
   "source": [
    "La fonction objectif dans la base $B_1$ est donc : $z^1 = 38 - 7x_3 + 6x_5$."
   ]
  },
  {
   "cell_type": "markdown",
   "metadata": {},
   "source": [
    "> **Question :** faire de même pour la base $B_2 = (A^1, A^2, A^5)$\n",
    "\n",
    "> **Solution de base :**\n",
    "\n",
    "> **objectif :**\n",
    "\n",
    "> **Observation :** Retrouver la solution de base associée à $B_2$ sur le polyèdre. Que concluez-vous pour la solution associée ?"
   ]
  },
  {
   "cell_type": "code",
   "execution_count": null,
   "metadata": {},
   "outputs": [],
   "source": [
    "# Votre code ici"
   ]
  },
  {
   "cell_type": "markdown",
   "metadata": {},
   "source": [
    "> **Question :** faire de même pour la base $B_3 = (A^2, A^4, A^5)$\n",
    " \n",
    "> **Que se passe-t'il ? :**\n",
    "\n",
    "> **Interprétation :**"
   ]
  },
  {
   "cell_type": "code",
   "execution_count": null,
   "metadata": {},
   "outputs": [],
   "source": [
    "# Votre code ici"
   ]
  },
  {
   "cell_type": "markdown",
   "metadata": {},
   "source": [
    "## 5. Algorithme du simplexe\n",
    "\n",
    "### Principe\n",
    "\n",
    "Le principe de l'algorithme du simplexe est de partir d'une base réalisable et de chercher à améliorer la solution en changeant de base. Pour cela, on va chercher à trouver une variable hors base qui permet d'améliorer la fonction objectif. C'est-à-dire que l'on essaie d'affecter une valeur non nulle positive à cette variable. On dit que l'on fait entrer cette variable dans la base.\n",
    "\n",
    "Comme la base a toujours la même dimension, pour que cette variable puisse entrer dans la base, il faut qu'une variable en sorte. On recherche donc la variable à faire sortir pour atteindre une base réalisable. Il s'agit de la première variable qui s'annule parmi les variables de base qu'on on augmente la variable entrante (on dit que l'on fait sortir cette variable de la base).\n",
    "\n",
    "Le processus est répété jusqu'à ce que l'on ne puisse plus améliorer la solution. A moins de se trouver dans un cas particulier (pas de solutions, solutions infinies ...), on finit toujours par trouver une solution optimale du fait de la nature convexe du problème.\n",
    "\n",
    "### Base initiale\n",
    "\n",
    "La première étape est donc de trouver une base initiale. Le problème $(\\mathcal{P}3)$ est sous forme standard et on se trouve dans le cas général : Il existe une base évidente.\n",
    "\n",
    "> **Question :** Pouvez-vous identifiez une base réalisable dite *évidente* pour $A$ et les variables qui lui sont associées ?"
   ]
  },
  {
   "cell_type": "markdown",
   "metadata": {},
   "source": [
    "> **Réponse :**"
   ]
  },
  {
   "cell_type": "markdown",
   "metadata": {},
   "source": [
    "> **Question :** Donnez la solution de base associée à la base évidente que vous avez identifiée, la valeur de l'objectif et identifiez sur le polyèdre le sommet où se trouve cette base."
   ]
  },
  {
   "cell_type": "markdown",
   "metadata": {},
   "source": [
    "> **solution de base associée à la base évidente :**\n",
    "\n",
    "> **valeur de l'objectif :**"
   ]
  },
  {
   "cell_type": "markdown",
   "metadata": {},
   "source": [
    "**Remarque :** il arrive que cette base évidente ne soit pas réalisable voire qu'elle n'existe pas. Il existe des manières de trouver une première base réalisable qui utilise l'algorithme du simplexe directement. On ne s'intéresse pas à cela ici."
   ]
  },
  {
   "cell_type": "markdown",
   "metadata": {},
   "source": [
    "### Tableau simplicial\n",
    "\n",
    "Il existe plusieurs manières de représenter un programme linéaire pour le résoudre par l'algorithme du simplexe. Nous allons utiliser la représentation sous forme de tableau simplicial. Supposons que l'on ait le programme linéaire exprimé par rapport à une base $B$ par le système :\n",
    "\n",
    "\\begin{alignat*}{3}\n",
    "\\qquad\\qquad \\max z = \\overline{c}^Tx + \\overline{z} &&\\\\\n",
    "\\text{sous les contraintes}& &&\\\\\n",
    "\\overline{A}x & &&= \\overline{b} &&\\qquad (1)\\\\\n",
    "x &  && \\geq 0 && \\qquad (2).\n",
    "\\end{alignat*}\n",
    "\n",
    "le tableau simplicial associé est :\n",
    "\n",
    "$$\n",
    "\\begin{array}{c|ccccc|c}\n",
    " & & & x^t & & & \\\\\n",
    " \\hline\n",
    " & & &     & & & \\\\\n",
    "x_{\\cal B} & & & \\overline{A} & & & \\overline{b}  \\\\\n",
    " & & &     & & & \\\\\n",
    " \\hline\n",
    " & & & \\overline{c} & & & -\\overline{z}\n",
    "\\end{array}\n",
    "$$\n",
    "\n",
    "Par exemple, si on a le système linéaire ($\\cal L$) suivant associé la base $B_0 = (A^3, A^4, A^5)$ :\n",
    "\n",
    "\\begin{alignat*}{7}\n",
    "\\text{Max } z = \\quad &  & 4x_1 & + & 5x_2  & + & 0x_3 & + & 0x_4 & + & 0x_5 \\\\\n",
    "               \\quad &  & 2x_1 & + & x_2   & + & x_3 &   &     &   &     & \\quad = & \\quad 800 \\\\\n",
    "               \\quad &  & x_1  & + & 2x_2  &   &     & + & x_4 &   &     & \\quad = & \\quad 700 \\\\\n",
    "               \\quad &  &      &   & x_2   &   &     &   &     & + & x_5 & \\quad = & \\quad 300 \\\\\n",
    "               \\quad &  & x_1  &,  & x_2   &,  & x_3 &,  & x_4 &,  & x_5 & \\quad \\geq & \\quad 0   \n",
    "\\end{alignat*}\n",
    "\n",
    "Le tableau simplicial associé est :\n",
    "\n",
    "\\begin{array}{c|ccccc|c}\n",
    "    & x_1 & x_2 & x_3 & x_4 & x_5 & \\\\\n",
    "\\hline\n",
    "x_3 & 2   & 1   & 1   & 0   & 0   & 800 \\\\\n",
    "x_4 & 1   & 2   & 0   & 1   & 0   & 700 \\\\\n",
    "x_5 & 0   & 1   & 0   & 0   & 1   & 300 \\\\\n",
    "\\hline\n",
    "    & 4   & 5   & 0   & 0   & 0   & 0\n",
    "\\end{array}\n",
    "\n",
    "Le codage de ce tableau pour le manipuler en python est le suivant :"
   ]
  },
  {
   "cell_type": "code",
   "execution_count": null,
   "metadata": {},
   "outputs": [],
   "source": [
    "tableau_simplicial_L = np.array([[2.0, 1.0, 1.0, 0.0, 0.0, 800.0], [1.0, 2.0, 0.0, 1.0, 0.0, 700.0], [0.0, 1.0, 0.0, 0.0, 1.0, 300.0], [4.0, 5.0, 0.0, 0.0, 0.0, 0.0]])\n",
    "\n",
    "print(\"tableau_simplicial_L =\\n\", tableau_simplicial_L, \"\\n\")"
   ]
  },
  {
   "cell_type": "markdown",
   "metadata": {},
   "source": [
    "> **Question :** donner le tableau simplicial associé à la base évidente que vous avez identifiée précédemment pour (${\\cal P}3$) et définissez une variable python `tableau_simplicial` qui contient ce tableau.\n",
    ">\n",
    "> **Réponse :**"
   ]
  },
  {
   "cell_type": "code",
   "execution_count": null,
   "metadata": {},
   "outputs": [],
   "source": [
    "# Votre code ici"
   ]
  },
  {
   "cell_type": "markdown",
   "metadata": {},
   "source": [
    "### Déroulé d'une itération\n",
    "\n",
    "1. Il faut chosir la variable qui va entrer dans la base. Pour cela, on choisit une variable hors base dont le coût dans la fonction objectif courante est strictement positif. L'idée est que puisqu'en entrant dans la base, la variable va prendre une valeur positive, il faut que le coût soit aussi strictement positif pour que la fonction objectif augmente. Pour ($\\cal L$), par exemple, on peut choisir $x_1$ ou $x_2$.  Les deux variables sont donc candidates pour entrer dans la base et le choix est arbitraire. Heuristiquement, on aura tendance à choisir la variable qui a le plus grand coût dans la fonction objectif. On choisit donc $x_2$.\n",
    "\n",
    "2. Il faut maintenant choisir la variable qui va sortir de la base. Pour cela, on calcule le rapport entre le terme constant de la contrainte et le coefficient de la variable choisie dans la contrainte. On choisit la variable de base associée à la contrainte pour laquelle on a le plus petit rapport. Pour ($\\cal L$), on a : $800/1 = 800$, $700/2 = 350$ et $300/1 = 300$. La variable qui sort de la base est donc $x_5$. Il s'agit de la première variable qui va valoir 0 quand $x_2$ augmente. Cela permet de garantir que l'on respecte l'ensemble des contraintes.\n",
    "\n",
    "3. On a donc une nouvelle base $B_1 = (A^3, A^4, A^2)$. On doit donc mettre le système linéaire sous forme simpliciale par rapport à cette base. Cela revient à faire un pivot de Gauss sur la colonne $x_2$ et la $3^e$ ligne du tableau simplicial qui correspond à la contrainte dont $x_5$ est la variable de base associée."
   ]
  },
  {
   "cell_type": "code",
   "execution_count": null,
   "metadata": {},
   "outputs": [],
   "source": [
    "# Attention ligne et colonne commencent à 0 dans le programme alors que les indices des modèles mathématiques commencent à 1\n",
    "def pivot(matrice, ligne, colonne):\n",
    "    \"\"\"\n",
    "    Effectue un pivot sur une matrice numpy array en utilisant le coefficient à la ligne `ligne` et colonne `colonne` comme pivot.\n",
    "    \"\"\"\n",
    "    \n",
    "    # Récupération du coefficient pivot\n",
    "    pivot = matrice[ligne, colonne]\n",
    "    \n",
    "    # Division de la ligne pivot par le coefficient pivot\n",
    "    matrice[ligne, :] /= pivot\n",
    "\n",
    "    # Soustraction de la ligne pivot multipliée par chaque coefficient de la colonne pivot\n",
    "    for i in range(matrice.shape[0]):\n",
    "        if i != ligne:\n",
    "            matrice[i, :] -= matrice[i, colonne] * matrice[ligne, :]\n",
    "\n",
    "pivot(tableau_simplicial_L, 2, 1)\n",
    "\n",
    "print(tableau_simplicial_L)"
   ]
  },
  {
   "cell_type": "markdown",
   "metadata": {},
   "source": [
    "Le tableau simplicial est donc devenu :\n",
    "\n",
    "\\begin{array}{c|ccccc|c}\n",
    "    & x_1 & x_2 & x_3 & x_4 & x_5 & \\\\\n",
    "\\hline\n",
    "x_3 & 2   & 0   & 1   & 0   & -1  & 500 \\\\\n",
    "x_4 & 1   & 0   & 0   & 1   & -2  & 100 \\\\\n",
    "x_2 & 0   & 1   & 0   & 0   & 1   & 300 \\\\\n",
    "\\hline\n",
    "    & 4   & 0   & 0   & 0   & -5  & -1500\n",
    "\\end{array}\n",
    "\n",
    "La solution de base associée à $B_1$ est donc $(0, 300, 500, 100, 0)$ et la valeur de la fonction objectif est $z = 1500$.\n",
    "\n",
    "> **Question :** Faire de même pour ${\\cal P}_3$."
   ]
  },
  {
   "cell_type": "code",
   "execution_count": null,
   "metadata": {},
   "outputs": [],
   "source": [
    "# Votre code ici"
   ]
  },
  {
   "cell_type": "markdown",
   "metadata": {},
   "source": [
    "> **Réponse :** (nouveau tableau simplicial, solution de base associée, valeur de la fonction objectif)\n",
    "\n",
    "> **Question :** Retrouver la solution de base associée à la nouvelle base sur le polyèdre."
   ]
  },
  {
   "cell_type": "markdown",
   "metadata": {},
   "source": [
    "### Critère d'arrêt\n",
    "\n",
    "L'algorithme du simplexe s'arrête quand il n'est plus possible d'améliorer la solution. Dans le cas général, cela intervient quand toutes les variables hors base ont un coût nul ou négatif dans le tableau simplicial. Cela signifie que l'on ne peut plus améliorer la fonction objectif en faisant entrer une variable dans la base. On a donc atteint une solution optimale.\n",
    "\n",
    "> **Question :** itérer l'algorithme du simplexe pour ${\\cal P}_3$ et donner la solution optimale trouvée et l'optimum\n",
    "\n",
    "> **Question :** chaque étape, retrouver la solution de base associée à la nouvelle base sur le polyèdre."
   ]
  },
  {
   "cell_type": "code",
   "execution_count": null,
   "metadata": {},
   "outputs": [],
   "source": [
    "# Votre code ici"
   ]
  },
  {
   "cell_type": "markdown",
   "metadata": {},
   "source": [
    "## Implémentation de l'algorithme du simplexe en Python\n",
    "\n",
    "On suppose que le système linaire est sous forme standard et que la base initiale est réalisable. Il est encodé sous forme d'un tableau simplicial comme décrit précédemment. On suppose aussi que l'on dispose dans un vecteur base des indices des variables de base (dans l'odre des contraintes auxquelles elles sont associées). Par exemple, pour le système linéaire ($\\cal L$), on a :\n",
    "\n",
    "```python\n",
    "tableau_simplicial = np.array([[2, 1, 1, 0, 0, 800],\n",
    "                               [1, 2, 0, 1, 0, 700],\n",
    "                               [0, 1, 0, 0, 1, 300],\n",
    "                               [4, 5, 0, 0, 0, 0]])\n",
    "                               \n",
    "base = np.array([3, 4, 5]) # On pourrait aussi mettre base = np.array([2, 3, 4]) car les indices des variables de base sont les mêmes que les indices des colonnes dans le tableau simplicial\n",
    "```\n",
    "\n",
    "> **Question :** Ecrire une fonction `simplexe(tableau_simplicial, base)` qui prend en argument un tableau simplicial et une base et la base à l'optimum, une solution optimale et l'optimum. Vérifiez que vous retrouver bien les résultats précédents."
   ]
  },
  {
   "cell_type": "code",
   "execution_count": null,
   "metadata": {},
   "outputs": [],
   "source": [
    "def simplexe(tableau_simplicial, base):\n",
    "    # A faire\n",
    "    pass"
   ]
  }
 ],
 "metadata": {
  "anaconda-cloud": {},
  "kernelspec": {
   "display_name": "Python 3",
   "language": "python",
   "name": "python3"
  },
  "language_info": {
   "codemirror_mode": {
    "name": "ipython",
    "version": 3
   },
   "file_extension": ".py",
   "mimetype": "text/x-python",
   "name": "python",
   "nbconvert_exporter": "python",
   "pygments_lexer": "ipython3",
   "version": "3.10.8"
  }
 },
 "nbformat": 4,
 "nbformat_minor": 0
}
